{
  "nbformat": 4,
  "nbformat_minor": 0,
  "metadata": {
    "colab": {
      "name": "BigDataFinal.ipynb",
      "provenance": [],
      "collapsed_sections": [],
      "authorship_tag": "ABX9TyNrUOcVosLegzPdeAw5uQEE",
      "include_colab_link": true
    },
    "kernelspec": {
      "name": "python3",
      "display_name": "Python 3"
    }
  },
  "cells": [
    {
      "cell_type": "markdown",
      "metadata": {
        "id": "view-in-github",
        "colab_type": "text"
      },
      "source": [
        "<a href=\"https://colab.research.google.com/github/enigma11-droid/BigDataTweetSentimentAnalysis/blob/main/BigDataFinal.ipynb\" target=\"_parent\"><img src=\"https://colab.research.google.com/assets/colab-badge.svg\" alt=\"Open In Colab\"/></a>"
      ]
    },
    {
      "cell_type": "code",
      "metadata": {
        "id": "5L_QWRKzHASw"
      },
      "source": [
        "import pandas as pd\n",
        "import numpy as np\n",
        "import re \n",
        "from textblob import TextBlob "
      ],
      "execution_count": null,
      "outputs": []
    },
    {
      "cell_type": "code",
      "metadata": {
        "colab": {
          "base_uri": "https://localhost:8080/"
        },
        "id": "IIjfr9VCHJDP",
        "outputId": "5987fa0e-4f4c-47f8-e4bd-aa51654cb522"
      },
      "source": [
        "from google.colab import drive\n",
        "drive.mount('/content/gdrive')"
      ],
      "execution_count": null,
      "outputs": [
        {
          "output_type": "stream",
          "text": [
            "Mounted at /content/gdrive\n"
          ],
          "name": "stdout"
        }
      ]
    },
    {
      "cell_type": "code",
      "metadata": {
        "id": "cWPXcJuLJA4T"
      },
      "source": [
        "data = pd.read_csv('/content/gdrive/My Drive/BigData/FlumeData/cleaneddata.csv',index_col=0)"
      ],
      "execution_count": null,
      "outputs": []
    },
    {
      "cell_type": "code",
      "metadata": {
        "id": "5YxjCjCiLXk8"
      },
      "source": [
        "def process_tweets(fetched_tweets):\n",
        "  tweets = []\n",
        "  for index, row in fetched_tweets.iterrows():\n",
        "    parsed_tweet = {}\n",
        "    parsed_tweet['text'] = row['text']\n",
        "    parsed_tweet['sentiment'] = get_tweet_sentiment(row['text'])\n",
        "    if row['retweet_count'] > 0:\n",
        "      if parsed_tweet not in tweets:\n",
        "        tweets.append(parsed_tweet)\n",
        "    else:\n",
        "      tweets.append(parsed_tweet)\n",
        "  return tweets"
      ],
      "execution_count": null,
      "outputs": []
    },
    {
      "cell_type": "code",
      "metadata": {
        "id": "2QpCdlvhJyq_"
      },
      "source": [
        "\tdef clean_tweet(tweet): \n",
        "\t\t''' \n",
        "\t\tUtility function to clean tweet text by removing links, special characters \n",
        "\t\tusing simple regex statements. \n",
        "\t\t'''\n",
        "\t\treturn ' '.join(re.sub(\"(@[A-Za-z0-9]+)|([^0-9A-Za-z \\t])|(\\w+:\\/\\/\\S+)\", \" \", tweet).split()) "
      ],
      "execution_count": null,
      "outputs": []
    },
    {
      "cell_type": "code",
      "metadata": {
        "colab": {
          "base_uri": "https://localhost:8080/"
        },
        "id": "qCb5OiZRJ0jF",
        "outputId": "9233bc08-5399-4f2e-87db-9edb907efe20"
      },
      "source": [
        "print(clean_tweet(data.loc[0,'text']))"
      ],
      "execution_count": null,
      "outputs": [
        {
          "output_type": "stream",
          "text": [
            "Remmie shiva Watch this at least you could get entertained by the\n"
          ],
          "name": "stdout"
        }
      ]
    },
    {
      "cell_type": "code",
      "metadata": {
        "id": "fK8l6upeKxu-"
      },
      "source": [
        "def get_tweet_sentiment(tweet): \n",
        "\t\t''' \n",
        "\t\tUtility function to classify sentiment of passed tweet \n",
        "\t\tusing textblob's sentiment method \n",
        "\t\t'''\n",
        "\t\t# create TextBlob object of passed tweet text \n",
        "\t\tanalysis = TextBlob(clean_tweet(tweet)) \n",
        "\t\t# set sentiment \n",
        "\t\tif analysis.sentiment.polarity > 0: \n",
        "\t\t\treturn 'positive'\n",
        "\t\telif analysis.sentiment.polarity == 0: \n",
        "\t\t\treturn 'neutral'\n",
        "\t\telse: \n",
        "\t\t\treturn 'negative'"
      ],
      "execution_count": null,
      "outputs": []
    },
    {
      "cell_type": "code",
      "metadata": {
        "id": "sEBvWcWhLfAY"
      },
      "source": [
        "def sentiment_analysis(df):\n",
        "  # calling function to get tweets\n",
        "  tweets = process_tweets(df)\n",
        "  # picking positive tweets from tweets\n",
        "  print('___________________________________________________________________________________')\n",
        "  ptweets = [tweet for tweet in tweets if tweet['sentiment'] == 'positive']\n",
        "  # percentage of positive tweets\n",
        "  print(\"Positive tweets percentage: {} %\".format(100*len(ptweets)/len(tweets)))\n",
        "  # picking negative tweets from tweets\n",
        "  ntweets = [tweet for tweet in tweets if tweet['sentiment'] == 'negative']\n",
        "  # percentage of negative tweets\n",
        "  print(\"Negative tweets percentage: {} %\".format(100*len(ntweets)/len(tweets)))\n",
        "  # percentage of neutral tweets\n",
        "  print(\"Neutral tweets percentage: {} % \".format(100*(len(tweets) -(len( ntweets )+len( ptweets)))/len(tweets)))\n",
        "  print('___________________________________________________________________________________')\n",
        "  # printing first 5 positive tweets\n",
        "  print(\"\\n\\nPositive tweets:\")\n",
        "  for tweet in ptweets[:10]:\n",
        "    print(tweet['text'])\n",
        "  print('___________________________________________________________________________________')\n",
        "  # printing first 5 negative tweets\n",
        "  print(\"\\n\\nNegative tweets:\")\n",
        "  for tweet in ntweets[:10]:\n",
        "    print(tweet['text'])\n",
        "  print('___________________________________________________________________________________')\n",
        "  pieplotdata = [len(ptweets),len(tweets)-len(ptweets)+len(ntweets),len(ntweets)]\n",
        "  return pieplotdata"
      ],
      "execution_count": null,
      "outputs": []
    },
    {
      "cell_type": "code",
      "metadata": {
        "colab": {
          "base_uri": "https://localhost:8080/"
        },
        "id": "jK82L4N6K-ot",
        "outputId": "b6184a54-da5a-4cff-ea2a-2b61300893b6"
      },
      "source": [
        "pieplotdata = sentiment_analysis(data)"
      ],
      "execution_count": null,
      "outputs": [
        {
          "output_type": "stream",
          "text": [
            "___________________________________________________________________________________\n",
            "Positive tweets percentage: 37.611477316789454 %\n",
            "Negative tweets percentage: 8.414113997673518 %\n",
            "Neutral tweets percentage: 53.97440868553703 % \n",
            "___________________________________________________________________________________\n",
            "\n",
            "\n",
            "Positive tweets:\n",
            "RT @NOAA_GLERL: We all know #data is important to #science, but so is metadata - or data about data. Examples of #metadata are a dataset's…\n",
            "@DoctorTruthine1 @news_ntd @EpochTimes Bell shaped curves . . . \n",
            "\n",
            "Science is awesome. “Believe” in it or not — it w… https://t.co/5z63BN6vK0\n",
            "AMA, AHA, ANA back science-based COVID-19 vaccine process, urge vigilance \n",
            "\n",
            "READ MORE: https://t.co/aTLNcJAIVu… https://t.co/FncnyZ39bM\n",
            "Out of date slide being presented in 2020....\n",
            "\n",
            "VP #Bigdata? Really?\n",
            "Once again #infrastructure centric not business… https://t.co/AGnxPo6G1K\n",
            "RT @IAM__Network: AMA, AHA, ANA back science-based COVID-19 vaccine process, urge vigilance \n",
            "\n",
            "READ MORE: https://t.co/aTLNcJAIVu\n",
            "\n",
            "#Art #Ast…\n",
            "RT @CraigMilroy: Out of date slide being presented in 2020....\n",
            "\n",
            "VP #Bigdata? Really?\n",
            "Once again #infrastructure centric not business centri…\n",
            "Modern science agrees\n",
            "Orchest, an open source tool for data science pipelines. [First stable release available on GitHub]\n",
            "https://t.co/Vpmxlvyg6x\n",
            "RT @AstroZaire: Modern science agrees https://t.co/L9T20hgq1F\n",
            "RT @dockaurG: This must be repeated: unprecedented, unacceptable &amp; appalling for govt policies/decisions impacting health/lives of BILLIONS…\n",
            "___________________________________________________________________________________\n",
            "\n",
            "\n",
            "Negative tweets:\n",
            "@Guy_Remmie @pizzasandonuts @va_shiva @realDonaldTrump @jack Watch this, at least you could get entertained by the… https://t.co/s0Vq7Yd9xY\n",
            "RT @Tony__Heller: The vast majority of deaths are occurring in locked down nursing homes, so obviously we need to keep children out of scho…\n",
            "RT @Mental_Elf: If Mental Health Data Science is your thing - don't miss this!\n",
            "\n",
            "Friday afternoon GMT (4th Dec 2020)\n",
            "\n",
            "🎟 https://t.co/pHBuV9O…\n",
            "Big Data is key to a company's critical issues, as long as we know how to collect it and correctly use it.… https://t.co/qfHItT0CZE\n",
            "@MayorAdler Wow cool graph that a bunch of un educated government workers made. Too bad the science and the data do… https://t.co/Jek8J9SAfx\n",
            "RT @Tony__Heller: The vast majority of deaths are occurring in locked down nursing homes, so obviously we need to keep children out of scho…\n",
            "@MIGOPChair Laura, she is not ignoring the science. Individual districts closed based on recommendations from their… https://t.co/NBJPdWdp8s\n",
            "@HarkHeraldPress @va_shiva @realDonaldTrump @JoeBiden He has all kinds of superpowers including b******* no real ev… https://t.co/K4CTQ0h32H\n",
            "We are reliable on;\n",
            "#Statistics\n",
            "#Literature \n",
            "Nursing\n",
            "#Biology  \n",
            "#Law \n",
            "#physiology\n",
            "essay pay\n",
            "essay due\n",
            "term paper\n",
            "Ca… https://t.co/b6t3d9keiP\n",
            "RT @Datascience__: Machine Learning Mathematics: Study Deep Learning Through Data Science. How to Build Artificial Intelligence Through Con…\n",
            "___________________________________________________________________________________\n"
          ],
          "name": "stdout"
        }
      ]
    },
    {
      "cell_type": "code",
      "metadata": {
        "colab": {
          "base_uri": "https://localhost:8080/",
          "height": 319
        },
        "id": "iMGg9UcnLDGY",
        "outputId": "a9d1f4df-cfce-4a27-d6e1-2a623c25a85d"
      },
      "source": [
        "from matplotlib import pyplot as plt\n",
        "import numpy as np\n",
        "fig = plt.figure()\n",
        "ax = fig.add_axes([0,0,1,1])\n",
        "ax.axis('equal')\n",
        "labels = ['Positive','Neutral','Negative']\n",
        "ax.pie(pieplotdata, labels = labels,autopct='%1.2f%%')\n",
        "plt.show()"
      ],
      "execution_count": null,
      "outputs": [
        {
          "output_type": "display_data",
          "data": {
            "image/png": "[encoded data removed]",
            "text/plain": [
              "<Figure size 432x288 with 1 Axes>"
            ]
          },
          "metadata": {
            "tags": []
          }
        }
      ]
    }
  ]
}